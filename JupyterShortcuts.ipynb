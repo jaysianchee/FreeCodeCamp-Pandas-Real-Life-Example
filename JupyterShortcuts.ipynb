{
 "cells": [
  {
   "cell_type": "markdown",
   "id": "130b3ba8-7dd7-4684-ae5a-a002ec83c0be",
   "metadata": {},
   "source": [
    "General:\n",
    "esc - Go out of edit mode into command mode\n",
    "enter - Go from command mode into edit mode\n",
    "ctrl + enter - Run cell (keep current cell selected)\n",
    "shift + enter - Run cell (select next cell immediately after)\n",
    "\n",
    "\n",
    "In command mode:\n",
    "a - Insert cell (A)bove \n",
    "b - Insert cell (B)elow\n",
    "dd - (D)elete cell\n",
    "y - Change cell to code (Python) cell\n",
    "m - Change cell to (M)arkdown cell\n",
    "c - Copy cell\n",
    "x - Cut cell\n",
    "v - Paste cell\n",
    "\n",
    "Arrow Keys - Select cells\n",
    "\n",
    "\n",
    "In edit mode:\n",
    "\n",
    "\n",
    "Markdown Formatting:\n",
    "\n",
    "\n",
    "\n"
   ]
  }
 ],
 "metadata": {
  "kernelspec": {
   "display_name": "Python 3 (ipykernel)",
   "language": "python",
   "name": "python3"
  },
  "language_info": {
   "codemirror_mode": {
    "name": "ipython",
    "version": 3
   },
   "file_extension": ".py",
   "mimetype": "text/x-python",
   "name": "python",
   "nbconvert_exporter": "python",
   "pygments_lexer": "ipython3",
   "version": "3.12.1"
  }
 },
 "nbformat": 4,
 "nbformat_minor": 5
}
